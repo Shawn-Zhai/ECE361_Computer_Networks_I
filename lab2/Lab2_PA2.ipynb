{
  "cells": [
    {
      "cell_type": "code",
      "execution_count": null,
      "id": "70ff9352-573c-4749-9365-9e0bd4731403",
      "metadata": {
        "id": "70ff9352-573c-4749-9365-9e0bd4731403"
      },
      "outputs": [],
      "source": [
        "import math\n",
        "import heapq\n",
        "import networkx as nx\n",
        "\n",
        "# define routers, links, and link costs\n",
        "# graph in figure 1 of the lab pdf\n",
        "routers = ['A', 'B', 'C', 'D', 'E', 'F', 'G']\n",
        "links = [('A', 'B'), ('A', 'C'), ('A', 'D'), ('B', 'D'), ('C', 'D'), ('C', 'E'),\n",
        "         ('D', 'E'), ('D', 'F'), ('E', 'F'), ('E', 'G'), ('F', 'G')]\n",
        "link_costs = {('A', 'B'): 2, ('A', 'C'): 2, ('A', 'D'): 2, ('B', 'D'): 3, ('C', 'D'): 1,\n",
        "              ('C', 'E'): 3, ('D', 'E'): 1, ('D', 'F'): 4, ('E', 'F'): 2, ('E', 'G'): 3, ('F', 'G'): 1}"
      ]
    },
    {
      "cell_type": "code",
      "execution_count": null,
      "id": "28cdfcf8-756c-4238-8554-a1e9b3a601d3",
      "metadata": {
        "id": "28cdfcf8-756c-4238-8554-a1e9b3a601d3"
      },
      "outputs": [],
      "source": [
        "# Build the networkx graph G\n",
        "G = nx.Graph()\n",
        "G.add_nodes_from(routers)\n",
        "for link in links:\n",
        "    l1, l2 = link\n",
        "    cost = link_costs.get(link, 0)\n",
        "    G.add_edge(l1, l2, weight=cost)"
      ]
    },
    {
      "cell_type": "code",
      "execution_count": null,
      "id": "3540947e-c64a-445d-9c21-5040fbece71c",
      "metadata": {
        "id": "3540947e-c64a-445d-9c21-5040fbece71c"
      },
      "outputs": [],
      "source": [
        "# Dijkstra's algorithm implementation\n",
        "def dijkstra(graph, source):\n",
        "\n",
        "    # initialize distances with infinity and set distance to source as 0\n",
        "    distances = {node: math.inf for node in graph}\n",
        "    distances[source] = 0\n",
        "\n",
        "    # initialize previous node dictionary to reconstruct paths later\n",
        "    previous_nodes = {node: None for node in graph.nodes}\n",
        "\n",
        "    # priority queue to store (distance, node ID) pairs, starting with the source\n",
        "    priority_queue = [(0, source)]\n",
        "\n",
        "    while priority_queue:\n",
        "\n",
        "        # pop node with smallest distance\n",
        "        # the nature of priority queue handles lexicographical order of ID in case of a tie in distance\n",
        "        current_distance, current_node = heapq.heappop(priority_queue)\n",
        "\n",
        "        # if the current distance is greater than the recorded distance, skip it\n",
        "        if current_distance > distances[current_node]:\n",
        "            continue\n",
        "\n",
        "        # explore neighbors of the current node\n",
        "        for neighbor in graph.neighbors(current_node):\n",
        "            weight = graph[current_node][neighbor]['weight']\n",
        "            distance = current_distance + weight\n",
        "\n",
        "            # only consider this new path if it's shorter\n",
        "            if distance < distances[neighbor]:\n",
        "                distances[neighbor] = distance\n",
        "                previous_nodes[neighbor] = current_node\n",
        "                heapq.heappush(priority_queue, (distance, neighbor))\n",
        "\n",
        "    # build the shortest paths from previous_nodes dictionary\n",
        "    shortest_paths = {}\n",
        "    for node in graph:\n",
        "        path = []\n",
        "        current = node\n",
        "        while current is not None:\n",
        "            path.insert(0, current)\n",
        "            current = previous_nodes[current]\n",
        "        if distances[node] < math.inf:\n",
        "            shortest_paths[node] = path\n",
        "\n",
        "    # print the shortest paths and distances\n",
        "    for destination, path in shortest_paths.items():\n",
        "        print(f\"Shortest path from {source} to {destination}: Length = {distances[destination]}, Path = {path}\")"
      ]
    },
    {
      "cell_type": "code",
      "execution_count": null,
      "id": "42fdd010-428f-47d0-b237-07bdf65e3dc6",
      "metadata": {
        "id": "42fdd010-428f-47d0-b237-07bdf65e3dc6",
        "outputId": "d1c84ae4-b186-41b4-cb18-57b017efe8f8",
        "colab": {
          "base_uri": "https://localhost:8080/"
        }
      },
      "outputs": [
        {
          "output_type": "stream",
          "name": "stdout",
          "text": [
            "Shortest path from A to A: Length = 0, Path = ['A']\n",
            "Shortest path from A to B: Length = 2, Path = ['A', 'B']\n",
            "Shortest path from A to C: Length = 2, Path = ['A', 'C']\n",
            "Shortest path from A to D: Length = 2, Path = ['A', 'D']\n",
            "Shortest path from A to E: Length = 3, Path = ['A', 'D', 'E']\n",
            "Shortest path from A to F: Length = 5, Path = ['A', 'D', 'E', 'F']\n",
            "Shortest path from A to G: Length = 6, Path = ['A', 'D', 'E', 'G']\n"
          ]
        }
      ],
      "source": [
        "# example usage\n",
        "dijkstra(G, 'A')"
      ]
    }
  ],
  "metadata": {
    "kernelspec": {
      "display_name": "Python 3 (ipykernel)",
      "language": "python",
      "name": "python3"
    },
    "language_info": {
      "codemirror_mode": {
        "name": "ipython",
        "version": 3
      },
      "file_extension": ".py",
      "mimetype": "text/x-python",
      "name": "python",
      "nbconvert_exporter": "python",
      "pygments_lexer": "ipython3",
      "version": "3.12.4"
    },
    "colab": {
      "provenance": []
    }
  },
  "nbformat": 4,
  "nbformat_minor": 5
}