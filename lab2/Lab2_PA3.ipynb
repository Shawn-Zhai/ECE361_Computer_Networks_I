{
  "cells": [
    {
      "cell_type": "code",
      "execution_count": null,
      "metadata": {
        "id": "iDhsNcIpRXwb"
      },
      "outputs": [],
      "source": [
        "import networkx as nx\n",
        "import math"
      ]
    },
    {
      "cell_type": "code",
      "execution_count": null,
      "metadata": {
        "id": "1GyKq5FgRXwf"
      },
      "outputs": [],
      "source": [
        "routers = ['A', 'B', 'C', 'D', 'E', 'F', 'G']\n",
        "links = [('A','B'), ('A','C'), ('A','D'), ('B','D'), ('C','D'), ('C','E'), ('D','E'), ('D','F'), ('E','F'), ('E','G'), ('F','G')]\n",
        "link_costs = {('A','B') : 2, ('A','C') : 2, ('A','D') : 2, ('B','D') : 3, ('C','D') : 1, ('C','E') : 3, ('D','E') :1, ('D','F') :4, ('E','F') :2, ('E','G') :3, ('F','G') :1}"
      ]
    },
    {
      "cell_type": "code",
      "execution_count": null,
      "metadata": {
        "id": "I2MWsuvrRXwg"
      },
      "outputs": [],
      "source": [
        "G = nx.Graph()\n",
        "G.add_nodes_from(routers)\n",
        "for link in links:\n",
        "    l1, l2 = link\n",
        "    cost = link_costs.get(link, 0)\n",
        "    G.add_edge(l1, l2, weight=cost)"
      ]
    },
    {
      "cell_type": "code",
      "execution_count": null,
      "metadata": {
        "id": "yce0e89cRXwg"
      },
      "outputs": [],
      "source": [
        "def bellman_ford(G, node):\n",
        "    for dest in routers:\n",
        "        shortest_distance, shortest_path = nx.single_source_bellman_ford(G, node, target=dest, weight='weight')\n",
        "        print(f\"Shortest path from {node} to {dest}: Length = {shortest_distance}, Path = {shortest_path}\")"
      ]
    },
    {
      "cell_type": "code",
      "execution_count": null,
      "metadata": {
        "colab": {
          "base_uri": "https://localhost:8080/"
        },
        "id": "z46FVK0DRXwg",
        "outputId": "0225cd89-c709-4c09-9912-d7361dc857f5"
      },
      "outputs": [
        {
          "output_type": "stream",
          "name": "stdout",
          "text": [
            "Shortest path from A to A: Length = 0, Path = ['A']\n",
            "Shortest path from A to B: Length = 2, Path = ['A', 'B']\n",
            "Shortest path from A to C: Length = 2, Path = ['A', 'C']\n",
            "Shortest path from A to D: Length = 2, Path = ['A', 'D']\n",
            "Shortest path from A to E: Length = 3, Path = ['A', 'D', 'E']\n",
            "Shortest path from A to F: Length = 5, Path = ['A', 'D', 'E', 'F']\n",
            "Shortest path from A to G: Length = 6, Path = ['A', 'D', 'E', 'G']\n"
          ]
        }
      ],
      "source": [
        "bellman_ford(G, 'A')"
      ]
    }
  ],
  "metadata": {
    "kernelspec": {
      "display_name": "Python 3",
      "language": "python",
      "name": "python3"
    },
    "language_info": {
      "codemirror_mode": {
        "name": "ipython",
        "version": 3
      },
      "file_extension": ".py",
      "mimetype": "text/x-python",
      "name": "python",
      "nbconvert_exporter": "python",
      "pygments_lexer": "ipython3",
      "version": "3.12.4"
    },
    "colab": {
      "provenance": []
    }
  },
  "nbformat": 4,
  "nbformat_minor": 0
}