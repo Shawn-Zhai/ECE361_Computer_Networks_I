{
  "cells": [
    {
      "cell_type": "code",
      "execution_count": null,
      "metadata": {
        "id": "iDhsNcIpRXwb"
      },
      "outputs": [],
      "source": [
        "import networkx as nx\n",
        "import math"
      ]
    },
    {
      "cell_type": "code",
      "execution_count": null,
      "metadata": {
        "id": "1GyKq5FgRXwf"
      },
      "outputs": [],
      "source": [
        "routers = ['A', 'B', 'C', 'D', 'E', 'F', 'G']\n",
        "links = [('A','B'), ('A','C'), ('A','D'), ('B','D'), ('C','D'), ('C','E'), ('D','E'), ('D','F'), ('E','F'), ('E','G'), ('F','G')]\n",
        "link_costs = {('A','B') : 2, ('A','C') : 2, ('A','D') : 2, ('B','D') : 3, ('C','D') : 1, ('C','E') : 3, ('D','E') :1, ('D','F') :4, ('E','F') :2, ('E','G') :3, ('F','G') :1}"
      ]
    },
    {
      "cell_type": "code",
      "execution_count": null,
      "metadata": {
        "id": "I2MWsuvrRXwg"
      },
      "outputs": [],
      "source": [
        "G = nx.Graph()\n",
        "G.add_nodes_from(routers)\n",
        "for link in links:\n",
        "    l1, l2 = link\n",
        "    cost = link_costs.get(link, 0)\n",
        "    G.add_edge(l1, l2, weight=cost)"
      ]
    },
    {
      "cell_type": "markdown",
      "source": [
        "Use Python 3 to write a function named bellman(G) that accepts the same network object G that we built earlier\n",
        "in section 5.2 and calculates the shortest path from a given source router to all other routers in the network\n",
        "using the Bellman-Ford algorithm. We note that for this assignment, you must implement the Bellman-Ford\n",
        "algorithm yourself. (Try to use the tutorial in section 6.1 as your guide)."
      ],
      "metadata": {
        "id": "5zJ-2vU8HZVM"
      }
    },
    {
      "cell_type": "code",
      "source": [
        "def bellman(G):\n",
        "  routers = G.nodes\n",
        "  # init shortest path dictionary\n",
        "  shortest_path = {}\n",
        "  for router in routers:\n",
        "    shortest_path[router] = {}\n",
        "    shortest_path[router][router] = {'cost': 0, 'path': [router]}\n",
        "\n",
        "  # iterate N - 1\n",
        "  for iter in range(len(routers) - 1):\n",
        "    updated = False\n",
        "    # for each router\n",
        "    for router in routers:\n",
        "      # check all neighbors\n",
        "      for other_router in G.neighbors(router):\n",
        "        # update shortest path to neighbor if it doesn't exist\n",
        "        shortest_path[router].setdefault(other_router, {'cost': G[router][other_router]['weight'], 'path': [router, other_router]})\n",
        "        # get shortest path data from neighbor\n",
        "        for dest, info in shortest_path[other_router].items():\n",
        "          # get our cost to dest\n",
        "          if (dest in shortest_path[router].keys()):\n",
        "            current_cost = shortest_path[router][dest]['cost']\n",
        "          else:\n",
        "            current_cost = math.inf\n",
        "          # new cost to dest\n",
        "          new_cost = info['cost'] + G[router][other_router]['weight']\n",
        "          # update if new < current\n",
        "          if (new_cost < current_cost):\n",
        "            shortest_path[router][dest] = {'cost': new_cost, 'path': [router] + info['path']}\n",
        "            updated = True\n",
        "\n",
        "    # exit early if nothing updated\n",
        "    if updated is False:\n",
        "      break\n",
        "  return shortest_path\n",
        "\n",
        "# print the shortest path to all destination from a single source\n",
        "def bellman_ford_print(G, node):\n",
        "    for dest in routers:\n",
        "        shortest_path = bellman(G)\n",
        "        print(f\"Shortest path from {node} to {dest}: Length = {shortest_path[node][dest]['cost']}, Path = {shortest_path[node][dest]['path']}\")"
      ],
      "metadata": {
        "id": "eOVDbNLfHT4m"
      },
      "execution_count": null,
      "outputs": []
    },
    {
      "cell_type": "code",
      "source": [
        "# example usage\n",
        "bellman_ford_print(G, 'E')"
      ],
      "metadata": {
        "colab": {
          "base_uri": "https://localhost:8080/"
        },
        "id": "j8T6-_vepFNN",
        "outputId": "64a5d200-9e73-44c6-f24e-41bc68b065db"
      },
      "execution_count": null,
      "outputs": [
        {
          "output_type": "stream",
          "name": "stdout",
          "text": [
            "Shortest path from E to A: Length = 3, Path = ['E', 'D', 'A']\n",
            "Shortest path from E to B: Length = 4, Path = ['E', 'D', 'B']\n",
            "Shortest path from E to C: Length = 2, Path = ['E', 'D', 'C']\n",
            "Shortest path from E to D: Length = 1, Path = ['E', 'D']\n",
            "Shortest path from E to E: Length = 0, Path = ['E']\n",
            "Shortest path from E to F: Length = 2, Path = ['E', 'F']\n",
            "Shortest path from E to G: Length = 3, Path = ['E', 'G']\n"
          ]
        }
      ]
    }
  ],
  "metadata": {
    "kernelspec": {
      "display_name": "Python 3",
      "language": "python",
      "name": "python3"
    },
    "language_info": {
      "codemirror_mode": {
        "name": "ipython",
        "version": 3
      },
      "file_extension": ".py",
      "mimetype": "text/x-python",
      "name": "python",
      "nbconvert_exporter": "python",
      "pygments_lexer": "ipython3",
      "version": "3.12.4"
    },
    "colab": {
      "provenance": []
    }
  },
  "nbformat": 4,
  "nbformat_minor": 0
}